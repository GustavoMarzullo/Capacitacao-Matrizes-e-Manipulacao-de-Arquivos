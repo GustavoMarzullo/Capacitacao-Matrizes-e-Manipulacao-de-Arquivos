{
 "cells": [
  {
   "cell_type": "markdown",
   "id": "252c4085",
   "metadata": {},
   "source": [
    "### - No Python uma matriz não é nada mais que um “vetor de vetores” "
   ]
  },
  {
   "cell_type": "code",
   "execution_count": 1,
   "id": "38cc3202",
   "metadata": {},
   "outputs": [],
   "source": [
    "A=[]\n",
    "for i in range(3):\n",
    "    A.append([1+i,2+i,3+i])"
   ]
  },
  {
   "cell_type": "code",
   "execution_count": 2,
   "id": "0d5350bf",
   "metadata": {
    "scrolled": false
   },
   "outputs": [
    {
     "data": {
      "text/plain": [
       "[[1, 2, 3], [2, 3, 4], [3, 4, 5]]"
      ]
     },
     "execution_count": 2,
     "metadata": {},
     "output_type": "execute_result"
    }
   ],
   "source": [
    "A"
   ]
  },
  {
   "cell_type": "markdown",
   "id": "af40d01c",
   "metadata": {},
   "source": [
    "$$\n",
    "A = \n",
    "\\begin{pmatrix}\n",
    "1 & 2 & 3\\\\\n",
    "2 & 3 & 4\\\\\n",
    "3 & 4 & 5\n",
    "\\end{pmatrix}\n",
    "$$"
   ]
  },
  {
   "cell_type": "markdown",
   "id": "ee7b9cc4",
   "metadata": {},
   "source": [
    "### - O acesso a matrizes é semelhante ao acesso a vetores"
   ]
  },
  {
   "cell_type": "markdown",
   "id": "001cf3de",
   "metadata": {},
   "source": [
    "Para acessar a primeira linha:"
   ]
  },
  {
   "cell_type": "code",
   "execution_count": 3,
   "id": "ecd7f09f",
   "metadata": {},
   "outputs": [
    {
     "data": {
      "text/plain": [
       "[1, 2, 3]"
      ]
     },
     "execution_count": 3,
     "metadata": {},
     "output_type": "execute_result"
    }
   ],
   "source": [
    "A[0]"
   ]
  },
  {
   "cell_type": "markdown",
   "id": "f5493071",
   "metadata": {},
   "source": [
    "Para acessar o elemento A$_{0,1}$"
   ]
  },
  {
   "cell_type": "code",
   "execution_count": 4,
   "id": "58f37973",
   "metadata": {
    "scrolled": true
   },
   "outputs": [
    {
     "data": {
      "text/plain": [
       "2"
      ]
     },
     "execution_count": 4,
     "metadata": {},
     "output_type": "execute_result"
    }
   ],
   "source": [
    "A[0][1]"
   ]
  },
  {
   "cell_type": "markdown",
   "id": "c6dd593f",
   "metadata": {},
   "source": [
    "### - Loop for em matrizes"
   ]
  },
  {
   "cell_type": "code",
   "execution_count": 5,
   "id": "07d74d6b",
   "metadata": {},
   "outputs": [],
   "source": [
    "A=[[1,2,3],[4,5,6],[7,8,9]]"
   ]
  },
  {
   "cell_type": "markdown",
   "id": "fcc5f30c",
   "metadata": {},
   "source": [
    "$$\n",
    "A = \n",
    "\\begin{pmatrix}\n",
    "1 & 2 & 3\\\\\n",
    "4 & 5 & 6\\\\\n",
    "7 & 8 & 9\n",
    "\\end{pmatrix}\n",
    "$$"
   ]
  },
  {
   "cell_type": "code",
   "execution_count": 6,
   "id": "b7e9ff95",
   "metadata": {},
   "outputs": [],
   "source": [
    "def traco(A):\n",
    "    '''Retorna o traço da matriz'''\n",
    "    soma=0\n",
    "    for i in range(len(A)): #iterando pelas linhas\n",
    "        for j in range(len(A[0])): #iterando pelas colunas\n",
    "            if i==j:\n",
    "                soma+=A[i][j]\n",
    "    return soma"
   ]
  },
  {
   "cell_type": "code",
   "execution_count": 7,
   "id": "d64939c6",
   "metadata": {},
   "outputs": [
    {
     "data": {
      "text/plain": [
       "15"
      ]
     },
     "execution_count": 7,
     "metadata": {},
     "output_type": "execute_result"
    }
   ],
   "source": [
    "traco(A)"
   ]
  },
  {
   "cell_type": "markdown",
   "id": "28418c01",
   "metadata": {},
   "source": [
    "#### Soma de matrizes"
   ]
  },
  {
   "cell_type": "markdown",
   "id": "8df63991",
   "metadata": {},
   "source": [
    "$$\n",
    "\\displaystyle\n",
    "A_{m \\times n} + B_{m \\times n}=C_{m \\times n}\\;\\;\\text{, onde:}$$\n",
    "$$\n",
    "\\displaystyle\n",
    " C_{i,j} = A_{i,j}+B_{i,j}\n",
    "$$"
   ]
  },
  {
   "cell_type": "code",
   "execution_count": 8,
   "id": "f9bf0e57",
   "metadata": {},
   "outputs": [],
   "source": [
    "def somar(A,B):\n",
    "    '''Soma as matrizes A e B'''\n",
    "    C=[]\n",
    "    for i in range(len(A)):\n",
    "        temp=[]\n",
    "        for j in range(len(A[0])):\n",
    "            temp.append(A[i][j]+B[i][j])\n",
    "        C.append(temp)\n",
    "    return C"
   ]
  },
  {
   "cell_type": "code",
   "execution_count": 9,
   "id": "b684382b",
   "metadata": {},
   "outputs": [],
   "source": [
    "A=[[1,2,3],[4,5,6],[7,8,9]]\n",
    "B=[[-1,-2,-3],[-4,-5,-6],[-7,-8,-9]]"
   ]
  },
  {
   "cell_type": "code",
   "execution_count": 10,
   "id": "08fcb321",
   "metadata": {},
   "outputs": [
    {
     "data": {
      "text/plain": [
       "[[0, 0, 0], [0, 0, 0], [0, 0, 0]]"
      ]
     },
     "execution_count": 10,
     "metadata": {},
     "output_type": "execute_result"
    }
   ],
   "source": [
    "somar(A,B)"
   ]
  },
  {
   "cell_type": "markdown",
   "id": "39cd2013",
   "metadata": {},
   "source": [
    "$$\n",
    "\\begin{pmatrix}\n",
    "1 & 2 & 3\\\\\n",
    "4 & 5 & 6\\\\\n",
    "7 & 8 & 9\n",
    "\\end{pmatrix}\n",
    "+\n",
    "\\begin{pmatrix}\n",
    "-1 & -2 & -3\\\\\n",
    "-4 & -5 & -6\\\\\n",
    "-7 & -8 & -9\n",
    "\\end{pmatrix}\n",
    "=\n",
    "\\begin{pmatrix}\n",
    "0 & 0 & 0\\\\\n",
    "0 & 0 & 0\\\\\n",
    "0 & 0 & 0\n",
    "\\end{pmatrix}\n",
    "$$"
   ]
  },
  {
   "cell_type": "markdown",
   "id": "22adacb0",
   "metadata": {},
   "source": [
    "## Matrizes não precisam ser somente de números"
   ]
  },
  {
   "cell_type": "code",
   "execution_count": 11,
   "id": "95594023",
   "metadata": {
    "scrolled": true
   },
   "outputs": [
    {
     "data": {
      "text/plain": [
       "[['Rachmaninoff', 'Stravinski', 'Tchaikovski'],\n",
       " ['Bach', 'Beethoven', 'Pachelbel'],\n",
       " ['Vivaldi', 'Paganini', 'Boccherini']]"
      ]
     },
     "execution_count": 11,
     "metadata": {},
     "output_type": "execute_result"
    }
   ],
   "source": [
    "L=[['Rachmaninoff','Stravinski','Tchaikovski'], #russos\n",
    "   ['Bach','Beethoven','Pachelbel'], #alemães\n",
    "   ['Vivaldi','Paganini','Boccherini']] #italianos\n",
    "L"
   ]
  },
  {
   "cell_type": "markdown",
   "id": "35d5504c",
   "metadata": {},
   "source": [
    "## E nem conter somente um tipo"
   ]
  },
  {
   "cell_type": "code",
   "execution_count": 12,
   "id": "1fa9b38b",
   "metadata": {},
   "outputs": [
    {
     "data": {
      "text/plain": [
       "[['Radiohead', 12657326],\n",
       " ['Iron Maiden', 6326185],\n",
       " ['Interpol', 2377886],\n",
       " ['Arcade Fire', 4013616]]"
      ]
     },
     "execution_count": 12,
     "metadata": {},
     "output_type": "execute_result"
    }
   ],
   "source": [
    "#[banda, nº de ouvintes no spotify]\n",
    "L=[['Radiohead',12657326], \n",
    "   ['Iron Maiden',6326185],\n",
    "   ['Interpol',2377886],\n",
    "   ['Arcade Fire',4013616]]\n",
    "L"
   ]
  },
  {
   "cell_type": "code",
   "execution_count": null,
   "id": "de6545d4",
   "metadata": {},
   "outputs": [],
   "source": []
  }
 ],
 "metadata": {
  "kernelspec": {
   "display_name": "Python 3",
   "language": "python",
   "name": "python3"
  },
  "language_info": {
   "codemirror_mode": {
    "name": "ipython",
    "version": 3
   },
   "file_extension": ".py",
   "mimetype": "text/x-python",
   "name": "python",
   "nbconvert_exporter": "python",
   "pygments_lexer": "ipython3",
   "version": "3.8.5"
  },
  "varInspector": {
   "cols": {
    "lenName": 16,
    "lenType": 16,
    "lenVar": 40
   },
   "kernels_config": {
    "python": {
     "delete_cmd_postfix": "",
     "delete_cmd_prefix": "del ",
     "library": "var_list.py",
     "varRefreshCmd": "print(var_dic_list())"
    },
    "r": {
     "delete_cmd_postfix": ") ",
     "delete_cmd_prefix": "rm(",
     "library": "var_list.r",
     "varRefreshCmd": "cat(var_dic_list()) "
    }
   },
   "types_to_exclude": [
    "module",
    "function",
    "builtin_function_or_method",
    "instance",
    "_Feature"
   ],
   "window_display": false
  }
 },
 "nbformat": 4,
 "nbformat_minor": 5
}
