{
 "cells": [
  {
   "cell_type": "markdown",
   "id": "03c5ce33",
   "metadata": {},
   "source": [
    "## Para ler um arquivo"
   ]
  },
  {
   "cell_type": "code",
   "execution_count": 1,
   "id": "750de152",
   "metadata": {
    "scrolled": true
   },
   "outputs": [
    {
     "data": {
      "text/plain": [
       "[['Gustavo', ' Eng. Química', ' 21\\n'],\n",
       " ['Ana', ' Eng. Elétrica', ' 19\\n'],\n",
       " ['Gabriel', ' Matemática', ' 18\\n'],\n",
       " ['Luiza', ' Eng. Civil', ' 20\\n'],\n",
       " ['Heitor', ' Economia', ' 20\\n']]"
      ]
     },
     "execution_count": 1,
     "metadata": {},
     "output_type": "execute_result"
    }
   ],
   "source": [
    "f=open(\"arquivo.txt\",\"r\")\n",
    "dados=[]\n",
    "for linha in f:\n",
    "    campo=linha.split(\",\")#o que separa os dados\n",
    "    dados.append(campo)\n",
    "f.close()\n",
    "\n",
    "dados"
   ]
  },
  {
   "cell_type": "markdown",
   "id": "32101288",
   "metadata": {},
   "source": [
    "## Lendo sem a quebra de linha"
   ]
  },
  {
   "cell_type": "code",
   "execution_count": 2,
   "id": "bfd831a5",
   "metadata": {
    "scrolled": true
   },
   "outputs": [
    {
     "data": {
      "text/plain": [
       "[['Gustavo', ' Eng. Química', ' 21'],\n",
       " ['Ana', ' Eng. Elétrica', ' 19'],\n",
       " ['Gabriel', ' Matemática', ' 18'],\n",
       " ['Luiza', ' Eng. Civil', ' 20'],\n",
       " ['Heitor', ' Economia', ' 20']]"
      ]
     },
     "execution_count": 2,
     "metadata": {},
     "output_type": "execute_result"
    }
   ],
   "source": [
    "f=open(\"arquivo.txt\",\"r\")\n",
    "dados=[]\n",
    "for linha in f:\n",
    "    linha=linha[:-1] #remove o último caractere\n",
    "    campo=linha.split(\",\")#o que separa os dados\n",
    "    dados.append(campo)\n",
    "f.close()\n",
    "\n",
    "dados"
   ]
  },
  {
   "cell_type": "markdown",
   "id": "2f9d064a",
   "metadata": {},
   "source": [
    "### Tranformando a idade de string para int"
   ]
  },
  {
   "cell_type": "code",
   "execution_count": 3,
   "id": "aad736f8",
   "metadata": {},
   "outputs": [
    {
     "data": {
      "text/plain": [
       "[['Gustavo', ' Eng. Química', 21],\n",
       " ['Ana', ' Eng. Elétrica', 19],\n",
       " ['Gabriel', ' Matemática', 18],\n",
       " ['Luiza', ' Eng. Civil', 20],\n",
       " ['Heitor', ' Economia', 20]]"
      ]
     },
     "execution_count": 3,
     "metadata": {},
     "output_type": "execute_result"
    }
   ],
   "source": [
    "for i in range(len(dados)):\n",
    "    dados[i][2]=int(dados[i][2])\n",
    "dados"
   ]
  },
  {
   "cell_type": "markdown",
   "id": "ec07f509",
   "metadata": {},
   "source": [
    "### Outro jeito de abrir e armazenar os dados"
   ]
  },
  {
   "cell_type": "code",
   "execution_count": 4,
   "id": "92a11d74",
   "metadata": {},
   "outputs": [
    {
     "name": "stdout",
     "output_type": "stream",
     "text": [
      "Nomes: ['Gustavo', 'Ana', 'Gabriel', 'Luiza', 'Heitor']\n",
      "Cursos: [' Eng. Química', ' Eng. Elétrica', ' Matemática', ' Eng. Civil', ' Economia']\n",
      "Idades: [21, 19, 18, 20, 20]\n"
     ]
    }
   ],
   "source": [
    "with open(\"arquivo.txt\",\"r\") as f:\n",
    "    Nome,Curso,Idade=[],[],[]\n",
    "    for linha in f:\n",
    "        campo=linha.split(\",\")\n",
    "        Nome.append(campo[0])\n",
    "        Curso.append(campo[1])\n",
    "        Idade.append(int(campo[2]))\n",
    "\n",
    "print(\"Nomes:\",Nome)\n",
    "print(\"Cursos:\",Curso)\n",
    "print(\"Idades:\",Idade)"
   ]
  },
  {
   "cell_type": "markdown",
   "id": "8ad05a11",
   "metadata": {},
   "source": [
    "## Criando um arquivo"
   ]
  },
  {
   "cell_type": "code",
   "execution_count": 5,
   "id": "b1435581",
   "metadata": {},
   "outputs": [],
   "source": [
    "with open('águas de março 1.txt',\"w\") as f:\n",
    "    f.write(\"É o pau, é a pedra, é o fim do caminho\\n\")\n",
    "    f.write(\"É um resto de toco, é um pouco sozinho\\n\")\n",
    "    f.write(\"É um caco de vidro, é a vida, é o sol\\n\")\n",
    "    f.write(\"É a noite, é a morte, é um laço, é o anzol\")"
   ]
  },
  {
   "cell_type": "code",
   "execution_count": 6,
   "id": "f22fc918",
   "metadata": {},
   "outputs": [],
   "source": [
    "with open('águas de março 2.txt',\"w\") as f:\n",
    "    f.write(\n",
    "        '''É o pau, é a pedra, é o fim do caminho\n",
    "É um resto de toco, é um pouco sozinho\n",
    "É um caco de vidro, é a vida, é o sol\n",
    "É a noite, é a morte, é um laço, é o anzol'''\n",
    "    )"
   ]
  },
  {
   "cell_type": "markdown",
   "id": "de38fbdd",
   "metadata": {},
   "source": [
    "### Escrevendo num arquivo existente"
   ]
  },
  {
   "cell_type": "code",
   "execution_count": 7,
   "id": "8a56a40b",
   "metadata": {},
   "outputs": [],
   "source": [
    "with open('águas de março 2.txt',\"a\") as f:\n",
    "    f.write(\"\\nÉ peroba no campo, é o nó da madeira\\n\")\n",
    "    f.write(\"Caingá candeia, é o matita-pereira\")"
   ]
  },
  {
   "cell_type": "markdown",
   "id": "f655e800",
   "metadata": {},
   "source": [
    "## Criando um CSV"
   ]
  },
  {
   "cell_type": "code",
   "execution_count": 8,
   "id": "553eeb30",
   "metadata": {},
   "outputs": [],
   "source": [
    "A=[[1,2,3],[4,5,6],[7,8,9]]\n",
    "\n",
    "with open('matriz.csv',\"w\") as f:\n",
    "    for i in range(len(A)):\n",
    "        for j in range(len(A[0])):\n",
    "            if j!=len(A[0])-1:\n",
    "                #botando vírgula\n",
    "                #depois de todos os números menos o último\n",
    "                f.write(str(A[i][j])+\",\")\n",
    "            else:\n",
    "                f.write(str(A[i][j]))\n",
    "        f.write(\"\\n\")"
   ]
  }
 ],
 "metadata": {
  "kernelspec": {
   "display_name": "Python 3",
   "language": "python",
   "name": "python3"
  },
  "language_info": {
   "codemirror_mode": {
    "name": "ipython",
    "version": 3
   },
   "file_extension": ".py",
   "mimetype": "text/x-python",
   "name": "python",
   "nbconvert_exporter": "python",
   "pygments_lexer": "ipython3",
   "version": "3.8.5"
  },
  "varInspector": {
   "cols": {
    "lenName": 16,
    "lenType": 16,
    "lenVar": 40
   },
   "kernels_config": {
    "python": {
     "delete_cmd_postfix": "",
     "delete_cmd_prefix": "del ",
     "library": "var_list.py",
     "varRefreshCmd": "print(var_dic_list())"
    },
    "r": {
     "delete_cmd_postfix": ") ",
     "delete_cmd_prefix": "rm(",
     "library": "var_list.r",
     "varRefreshCmd": "cat(var_dic_list()) "
    }
   },
   "types_to_exclude": [
    "module",
    "function",
    "builtin_function_or_method",
    "instance",
    "_Feature"
   ],
   "window_display": false
  }
 },
 "nbformat": 4,
 "nbformat_minor": 5
}
